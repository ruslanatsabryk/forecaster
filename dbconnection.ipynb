{
 "cells": [
  {
   "cell_type": "code",
   "execution_count": 9,
   "id": "db81cc12-749a-420b-b374-6de5302430fd",
   "metadata": {},
   "outputs": [],
   "source": [
    "import oracledb\n",
    "import cx_Oracle\n",
    "from datetime import datetime, timedelta"
   ]
  },
  {
   "cell_type": "code",
   "execution_count": 32,
   "id": "780c1f79-81cf-432a-91ce-5fb5737e8402",
   "metadata": {},
   "outputs": [],
   "source": [
    "try:\n",
    "    cx_Oracle.init_oracle_client(lib_dir=r\"F:\\ruslan\\dev\\oracle\\instantclient_19_9\")\n",
    "except:\n",
    "    pass\n"
   ]
  },
  {
   "cell_type": "code",
   "execution_count": null,
   "id": "8e588084-62e8-4218-bcbd-bb6cb3895a76",
   "metadata": {},
   "outputs": [],
   "source": [
    "conn_nwp = oracledb.connect(user=\"nwp\", password=\"modeli\", dsn=\"192.168.211.62/serv\")\n",
    "cursor_nwp = conn_nwp.cursor()\n",
    "\n",
    "cursor_nwp.execute(\"\"\"\n",
    "/* SELECT to_char(DATAS, 'YYYY-MM-DD'), ADVANCE_TIME,  TEMP */\n",
    "SELECT DATAS, ADVANCE_TIME,  TEMP\n",
    "FROM NWP.GROUND_DATA\n",
    "WHERE CITY_ID = 936 \n",
    "      AND model_id = 5\n",
    "      AND ADVANCE_TIME between 0 and 48\n",
    "      AND datas >= '01-12-2023'\n",
    "      AND to_char(datas, 'HH24') = '00'\n",
    "ORDER BY datas, advance_time\n",
    "\"\"\")\n",
    "date = None\n",
    "forecast_arr = []\n",
    "f_row = [] \n",
    "for c in cursor_nwp:\n",
    "    # Нова дата - создаем новую строку данных\n",
    "    if date != c[0]:\n",
    "        # Если дата пройдена, присоединить строку данных f_row к массиву forecast_arr\n",
    "        if date:\n",
    "            forecast_arr.append(f_row) \n",
    "        # Инициализируем следующую дату и строку данных\n",
    "        date = c[0]       \n",
    "        f_row = [None for _ in range(50)]\n",
    "        f_row[0] = c[0] # Дату c[0] записать в позицию 0\n",
    "    # В позицию списка, равную заблаговременности c[1] записать температуру c[2]\n",
    "    f_row[c[1] + 1] = c[2]\n",
    "# Присоединить последнюю строку данных f_row к массиву forecast_arr\n",
    "forecast_arr.append(f_row)        \n",
    "print(*forecast_arr, sep='\\n')\n",
    "conn_nwp.close()"
   ]
  },
  {
   "cell_type": "code",
   "execution_count": 37,
   "id": "acaac204-4a51-4c75-be24-d46e86487fc2",
   "metadata": {},
   "outputs": [
    {
     "name": "stdout",
     "output_type": "stream",
     "text": [
      "(datetime.datetime(2023, 12, 25, 0, 0), -2.1)\n",
      "(datetime.datetime(2023, 12, 25, 3, 0), -2.0)\n",
      "(datetime.datetime(2023, 12, 25, 6, 0), 0.0)\n",
      "(datetime.datetime(2023, 12, 25, 9, 0), 3.6)\n",
      "(datetime.datetime(2023, 12, 25, 12, 0), 4.9)\n",
      "(datetime.datetime(2023, 12, 25, 15, 0), 3.8)\n",
      "(datetime.datetime(2023, 12, 25, 18, 0), 4.2)\n",
      "(datetime.datetime(2023, 12, 25, 21, 0), 3.7)\n",
      "(datetime.datetime(2023, 12, 26, 0, 0), 3.1)\n",
      "(datetime.datetime(2023, 12, 26, 3, 0), 3.1)\n",
      "(datetime.datetime(2023, 12, 26, 6, 0), 2.2)\n",
      "(datetime.datetime(2023, 12, 26, 9, 0), 2.8)\n",
      "(datetime.datetime(2023, 12, 26, 12, 0), 2.4)\n",
      "(datetime.datetime(2023, 12, 26, 15, 0), 0.6)\n",
      "(datetime.datetime(2023, 12, 26, 18, 0), 2.3)\n",
      "(datetime.datetime(2023, 12, 26, 21, 0), 4.5)\n",
      "(datetime.datetime(2023, 12, 27, 0, 0), 3.3)\n",
      "(datetime.datetime(2023, 12, 27, 3, 0), 2.1)\n",
      "(datetime.datetime(2023, 12, 27, 6, 0), 1.4)\n",
      "(datetime.datetime(2023, 12, 27, 9, 0), 1.4)\n",
      "(datetime.datetime(2023, 12, 27, 12, 0), 1.2)\n",
      "(datetime.datetime(2023, 12, 27, 15, 0), 1.2)\n",
      "(datetime.datetime(2023, 12, 27, 18, 0), 1.4)\n",
      "(datetime.datetime(2023, 12, 27, 21, 0), 0.9)\n",
      "(datetime.datetime(2023, 12, 28, 0, 0), 0.7)\n",
      "(datetime.datetime(2023, 12, 28, 3, 0), -0.2)\n",
      "(datetime.datetime(2023, 12, 28, 6, 0), -0.9)\n",
      "(datetime.datetime(2023, 12, 28, 9, 0), 0.1)\n",
      "(datetime.datetime(2023, 12, 28, 12, 0), 0.7)\n"
     ]
    }
   ],
   "source": [
    "conn_gts = cx_Oracle.connect(user=\"cligts\", password=\"belorgmc\", dsn=\"192.168.211.173/clidb\")\n",
    "cursor_gts = conn_gts.cursor()\n",
    "\n",
    "cursor_gts.execute(\n",
    "\"\"\"\n",
    "SELECT DATE_OBS, TEMPDB\n",
    "FROM gts.synop\n",
    "WHERE date_obs >= '25-12-2023' AND station_id = '26850'\n",
    "\"\"\")\n",
    "\n",
    "gts_rows = cursor_gts.fetchall()\n",
    "for c in gts_rows:\n",
    "    print(c)\n",
    "\n",
    "conn_gts.close()"
   ]
  },
  {
   "cell_type": "code",
   "execution_count": null,
   "id": "7ca20855-ce7b-424a-9187-264abf072fae",
   "metadata": {},
   "outputs": [],
   "source": [
    "# Формирование y - значений фактической температуры, соответствующих каждой дате на 48 часов вперед\n",
    "td48 = timedelta(hours=48)\n",
    "td03 = timedelta(hours=03)\n",
    "# Поиск каждой совпадающей строки по дате и сроку 00\n",
    "ind = 0\n",
    "start = 0\n",
    "for f in forecast_arr:\n",
    "    date_nwp = f[0]\n",
    "    for i, g in enumerate(gts_rows[start:]):\n",
    "        if g[0] == f[0]: # Строка найдена\n",
    "            break\n",
    "    # Инициализировать строку данных для фактической температуры\n",
    "    g_row = [None for _ in range(18)]\n",
    "    g_row[0] = g[0]\n",
    "\n",
    "\n"
   ]
  },
  {
   "cell_type": "code",
   "execution_count": null,
   "id": "8eac5ed5-7633-401b-8b92-037fe228e698",
   "metadata": {},
   "outputs": [],
   "source": []
  },
  {
   "cell_type": "code",
   "execution_count": 14,
   "id": "2823d141-c825-4d26-a796-b43b0ec4577b",
   "metadata": {},
   "outputs": [
    {
     "data": {
      "text/plain": [
       "datetime.datetime(2023, 12, 26, 0, 0)"
      ]
     },
     "execution_count": 14,
     "metadata": {},
     "output_type": "execute_result"
    }
   ],
   "source": [
    "d1 = datetime(2023,12,26)\n",
    "d1"
   ]
  },
  {
   "cell_type": "code",
   "execution_count": 15,
   "id": "8462177f-7aa7-4271-bc92-f185b4f6cb1f",
   "metadata": {},
   "outputs": [
    {
     "data": {
      "text/plain": [
       "datetime.datetime(2023, 12, 28, 0, 0)"
      ]
     },
     "execution_count": 15,
     "metadata": {},
     "output_type": "execute_result"
    }
   ],
   "source": [
    "td = timedelta(hours=48)\n",
    "d2 = d1 + td\n",
    "d2"
   ]
  },
  {
   "cell_type": "code",
   "execution_count": 31,
   "id": "492f57f8-fdfc-41ce-afd1-7a2eefac871e",
   "metadata": {},
   "outputs": [
    {
     "name": "stdout",
     "output_type": "stream",
     "text": [
      "2023-12-28 00:00:00\n"
     ]
    }
   ],
   "source": [
    "t1 = datetime(2023,12,26)\n",
    "t2 = datetime(2023,12,26)\n",
    "t3 = t1 + td\n",
    "print(str(t3))"
   ]
  },
  {
   "cell_type": "code",
   "execution_count": null,
   "id": "22ef3e7e-dc44-40dd-a4a3-113fde35b848",
   "metadata": {},
   "outputs": [],
   "source": []
  }
 ],
 "metadata": {
  "kernelspec": {
   "display_name": "Python 3 (ipykernel)",
   "language": "python",
   "name": "python3"
  },
  "language_info": {
   "codemirror_mode": {
    "name": "ipython",
    "version": 3
   },
   "file_extension": ".py",
   "mimetype": "text/x-python",
   "name": "python",
   "nbconvert_exporter": "python",
   "pygments_lexer": "ipython3",
   "version": "3.10.11"
  }
 },
 "nbformat": 4,
 "nbformat_minor": 5
}
