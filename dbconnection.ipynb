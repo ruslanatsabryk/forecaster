{
 "cells": [
  {
   "cell_type": "code",
   "execution_count": 150,
   "id": "db81cc12-749a-420b-b374-6de5302430fd",
   "metadata": {},
   "outputs": [],
   "source": [
    "import oracledb\n",
    "import cx_Oracle\n",
    "from datetime import datetime, timedelta, time, date\n",
    "import numpy as np\n",
    "from scipy.interpolate import splrep, splev\n",
    "import csv\n",
    "import pickle\n",
    "\n",
    "\n",
    "import seaborn as sns\n",
    "import matplotlib.pyplot as plt\n",
    "\n",
    "from sklearn.model_selection import train_test_split\n",
    "from sklearn.preprocessing import SplineTransformer\n",
    "from sklearn.neighbors import KNeighborsRegressor\n",
    "from sklearn.linear_model import RidgeCV\n",
    "from sklearn.ensemble import ExtraTreesRegressor\n",
    "from sklearn.ensemble import RandomForestRegressor\n",
    "from sklearn.gaussian_process import GaussianProcessRegressor\n",
    "from sklearn.gaussian_process.kernels import DotProduct, WhiteKernel\n",
    "from sklearn.neural_network import MLPRegressor\n",
    "\n",
    "\n",
    "from sklearn.compose import TransformedTargetRegressor\n",
    "from sklearn.pipeline import make_pipeline\n",
    "from sklearn.preprocessing import StandardScaler\n",
    "from sklearn.preprocessing import MinMaxScaler\n",
    "from sklearn.preprocessing import MaxAbsScaler\n",
    "from sklearn.preprocessing import RobustScaler\n",
    "from sklearn.preprocessing import QuantileTransformer\n",
    "from sklearn.preprocessing import PowerTransformer\n",
    "from sklearn.preprocessing import Normalizer\n",
    "\n",
    "from sklearn.decomposition import PCA, KernelPCA\n",
    "from sklearn.decomposition import IncrementalPCA\n",
    "\n",
    "\n",
    "from sklearn.metrics import max_error\n",
    "from sklearn.metrics import r2_score\n",
    "from sklearn.metrics import mean_absolute_error\n",
    "from sklearn.metrics import mean_squared_error \n",
    "from sklearn.metrics import mean_squared_log_error \n",
    "from sklearn.metrics import median_absolute_error "
   ]
  },
  {
   "cell_type": "markdown",
   "id": "c18df540-2d08-4d23-a7a3-93cd574ef156",
   "metadata": {},
   "source": [
    "#### Функция чтения данных из БД"
   ]
  },
  {
   "cell_type": "code",
   "execution_count": 2,
   "id": "8e588084-62e8-4218-bcbd-bb6cb3895a76",
   "metadata": {},
   "outputs": [],
   "source": [
    "def read_temperature_from_db(start_date, finish_date):\n",
    "\n",
    "    try:\n",
    "        cx_Oracle.init_oracle_client(lib_dir=r\"F:\\ruslan\\dev\\oracle\\instantclient_19_9\")\n",
    "    except:\n",
    "        pass\n",
    "    \n",
    "    conn_nwp = oracledb.connect(user=\"nwp\", password=\"modeli\", dsn=\"192.168.211.62/serv\")\n",
    "    cursor_nwp = conn_nwp.cursor()\n",
    "    \n",
    "    cursor_nwp.execute(\"\"\"\n",
    "    /* SELECT to_char(DATAS, 'YYYY-MM-DD'), ADVANCE_TIME,  TEMP */\n",
    "    SELECT DATAS, ADVANCE_TIME,  TEMP\n",
    "    FROM NWP.GROUND_DATA\n",
    "    WHERE CITY_ID = 936 \n",
    "          AND model_id = 4\n",
    "          AND ADVANCE_TIME between 0 and 48\n",
    "          /*AND datas >= '01-08-2022'*/\n",
    "          /*AND datas between '01-08-2022' and '31-12-2022'*/\n",
    "          AND datas >= :start_date\n",
    "          AND to_char(datas, 'HH24') = '00'\n",
    "    ORDER BY datas, advance_time\n",
    "    \"\"\",\n",
    "    start_date=start_date\n",
    "    )\n",
    "    \n",
    "    date = None\n",
    "    forecast_arr = []\n",
    "    f_row = [] \n",
    "    for c in cursor_nwp:\n",
    "        # Нова дата - создаем новую строку данных\n",
    "        if date != c[0]:\n",
    "            # Если дата пройдена, присоединить строку данных f_row к массиву forecast_arr\n",
    "            if date:\n",
    "                forecast_arr.append(f_row) \n",
    "            # Инициализируем следующую дату и строку данных\n",
    "            date = c[0]       \n",
    "            f_row = [None for _ in range(50)]\n",
    "            f_row[0] = c[0] # Дату c[0] записать в позицию 0\n",
    "        # В позицию списка, равную заблаговременности c[1] записать температуру c[2]\n",
    "        f_row[c[1] + 1] = c[2]\n",
    "    # Присоединить последнюю строку данных f_row к массиву forecast_arr\n",
    "    forecast_arr.append(f_row)        \n",
    "    # print(*forecast_arr, sep='\\n')\n",
    "    conn_nwp.close()\n",
    "    \n",
    "    \n",
    "    conn_gts = cx_Oracle.connect(user=\"cligts\", password=\"belorgmc\", dsn=\"192.168.211.173/clidb\")\n",
    "    cursor_gts = conn_gts.cursor()\n",
    "    \n",
    "    cursor_gts.execute(\n",
    "    \"\"\"\n",
    "    SELECT DATE_OBS, TEMPDB\n",
    "    FROM gts.synop\n",
    "    WHERE \n",
    "      /*date_obs >= '01-08-2022'*/\n",
    "      /* date_obs between '01-08-2022' and '31-12-2022' */\n",
    "      date_obs >= :start_date\n",
    "      AND station_id = '26850'\n",
    "    \"\"\",\n",
    "    start_date=start_date\n",
    "    )\n",
    "    \n",
    "    gts_rows = cursor_gts.fetchall()\n",
    "    # for c in gts_rows:\n",
    "    #     print(c)\n",
    "    \n",
    "    conn_gts.close()\n",
    "    \n",
    "    \n",
    "    # Формирование y - значений фактической температуры, соответствующих каждой дате на 48 часов вперед\n",
    "    # Поиск каждой совпадающей строки по дате и сроку 00\n",
    "    start = 0\n",
    "    fact_arr = []\n",
    "    forecast_X = []\n",
    "    td48 = timedelta(hours=48)\n",
    "    for f in forecast_arr:\n",
    "        date_nwp = f[0]\n",
    "        # Прервать выполнение, если от даты прогноза до текущего момента \n",
    "        # прошло менее или ровно 48 часов, т.к. не будет соответствующих фактических данных\n",
    "        if datetime.today() - date_nwp <= td48:\n",
    "            print(datetime.today() - date_nwp)\n",
    "            print(f'Прервано - для даты {date_nwp} не хватит фактических данных!')\n",
    "            break\n",
    "        # print('NWP Date:', date_nwp)\n",
    "        # print('GTS start:', start)\n",
    "        for i, g in enumerate(gts_rows[start:]):\n",
    "            if g[0] == f[0]: # Строка найдена\n",
    "                # print(f[0])\n",
    "                start += i\n",
    "                forecast_X.append(f)\n",
    "                break\n",
    "        # Инициализировать строку данных для фактической температуры 17 значений\n",
    "        g_row = [None for _ in range(18)]\n",
    "        g_row[0] = g[0]\n",
    "        # print('GTS Date:', g[0])\n",
    "        for j in range(17):\n",
    "            gts_date = gts_rows[start + j][0]\n",
    "            gts_temperature = gts_rows[start + j][1]\n",
    "            td = gts_date - date_nwp\n",
    "            # print('Time delta for g_row:', td, 'Temper;', gts_temperature)\n",
    "            # В пределах 48 часов\n",
    "            if td <= td48:\n",
    "                td_hours = int(td.days * 24 + td.seconds / 3600)\n",
    "                # print('td_hours', td_hours)\n",
    "                cell = td_hours // 3\n",
    "                # print('cell', cell)\n",
    "                g_row[cell + 1] = gts_temperature\n",
    "            else:\n",
    "                # start += i #!!!!\n",
    "                print('BREAK!!!')\n",
    "                break\n",
    "        fact_arr.append(g_row)\n",
    "        # print(g_row)\n",
    "    \n",
    "    # print(*forecast_arr, sep='\\n')\n",
    "    # print('Fact:')\n",
    "    # print(*fact_arr, sep='\\n')\n",
    "    \n",
    "    fact_y = fact_arr\n",
    "    \n",
    "    \n",
    "    \n",
    "    # Проверка на пропущенные значения (None)\n",
    "    damaged_rows = set()\n",
    "    \n",
    "    for i, (x, y) in enumerate(zip(forecast_X, fact_y)):\n",
    "        \n",
    "        if x[0] != y[0]:\n",
    "            damaged_rows.add(i)\n",
    "            print('Damaged dates:', x[0], y[0])\n",
    "        \n",
    "        damage_x = False\n",
    "        for xi in x: \n",
    "            if xi is None:\n",
    "                damage_x = True\n",
    "                break\n",
    "        if damage_x:\n",
    "            damaged_rows.add(i)\n",
    "            print('x', x)\n",
    "        \n",
    "        damage_y = False\n",
    "        for yi in y: \n",
    "            if yi is None:\n",
    "                damage_y = True\n",
    "                break\n",
    "        if damage_y:\n",
    "            damaged_rows.add(i)\n",
    "            print('y', y)\n",
    "    \n",
    "    damaged_rows = sorted(list(damaged_rows), reverse=True)\n",
    "    print(damaged_rows)\n",
    "    \n",
    "    # Удаление строк с пропусками\n",
    "    for i in damaged_rows:\n",
    "        forecast_X.pop(i)\n",
    "        fact_y.pop(i)\n",
    "\n",
    "    return forecast_X, fact_y"
   ]
  },
  {
   "cell_type": "code",
   "execution_count": 3,
   "id": "7ca20855-ce7b-424a-9187-264abf072fae",
   "metadata": {},
   "outputs": [
    {
     "name": "stdout",
     "output_type": "stream",
     "text": [
      "1 day, 10:23:34.167404\n",
      "Прервано - для даты 2024-01-07 00:00:00 не хватит фактических данных!\n",
      "x [datetime.datetime(2022, 11, 5, 0, 0), 4.638, 4.118, 3.396, 2.756, 1.855, 0.817, 0.668, 1.091, 2.043, 3.152, 4.045, 4.577, 4.541, 4.278, 3.244, 2.414, 1.979, 1.642, 1.631, 1.587, 1.535, 1.776, 2.175, 2.486, 2.702, 2.911, 3.105, 3.308, 3.55, 3.769, 4.043, 4.34, 4.66, 4.954, 5.217, 5.46, 5.622, 5.774, 5.864, 5.897, 5.978, 6.109, 6.303, 6.368, 6.331, 6.58, None, 6.754, 6.694]\n",
      "x [datetime.datetime(2022, 11, 7, 0, 0), 4.293, 4.187, 4.182, 4.581, 4.85, 5.203, 5.301, 5.838, 6.525, 6.703, 6.846, 7.786, 8.512, None, 8.476, 8.345, 8.393, 8.356, 8.256, 8.161, 8.123, 7.983, 7.41, 6.643, 5.99, 5.361, 5.144, 5.378, 5.498, 5.401, 5.217, 5.913, 6.881, 7.712, 7.816, 7.75, 7.756, 7.926, 7.894, 7.805, 7.803, 7.862, 7.685, 7.696, 7.865, 7.862, 7.844, 7.939, 7.097]\n",
      "x [datetime.datetime(2022, 12, 23, 0, 0), 1.255, 1.178, 1.157, 1.155, 1.09, 1.152, 1.127, 1.014, 0.988, None, 0.932, 0.925, 0.937, 0.932, 0.851, 1.016, 0.678, 0.629, 0.662, 0.736, 0.416, 0.092, 0.151, 0.228, 0.389, 0.466, 0.452, 0.462, 0.471, 0.583, 0.626, 0.206, 0.532, 0.506, 0.696, 0.639, 0.502, 0.488, 0.064, -0.459, -1.088, -2.144, -4.787, -7.075, -7.622, -8.118, -8.592, -8.959, -9.224]\n",
      "x [datetime.datetime(2022, 12, 26, 0, 0), -10.687, -11.82, -12.941, -14.259, None, -14.267, -13.682, -13.269, -11.832, -10.451, -9.638, -8.837, -8.1, -7.546, -6.883, -6.007, -5.196, -4.358, -3.496, -2.661, -1.781, -1.025, -0.459, 0.096, 0.478, 0.745, 1.074, 1.309, 1.274, 1.277, 1.23, 1.515, 2.255, 1.101, 1.092, 1.136, 1.105, 1.345, 1.13, 0.979, 0.825, 0.635, 0.481, 0.751, 0.675, 0.318, 0.069, 0.133, 0.139]\n",
      "y [datetime.datetime(2023, 9, 3, 0, 0), 9.2, 8.9, 14.3, 21.0, 22.5, 19.6, 15.2, 10.8, 9.0, 7.2, 19.7, 20.7, 21.8, None, None, None, None]\n",
      "y [datetime.datetime(2023, 9, 4, 0, 0), 9.0, 7.2, 19.7, 20.7, 22.3, 21.9, 14.7, 10.0, 7.8, 6.1, 15.8, None, None, None, None, None, None]\n",
      "[239, 238, 55, 52, 6, 4]\n"
     ]
    }
   ],
   "source": [
    "forecast, fact = read_temperature_from_db('01-11-2022', '')"
   ]
  },
  {
   "cell_type": "markdown",
   "id": "a93ea003-f147-404c-8a6c-a98a7aaac575",
   "metadata": {},
   "source": [
    "#### Функция записи датасетов в файлы CSV"
   ]
  },
  {
   "cell_type": "code",
   "execution_count": 104,
   "id": "1d5be45f-996a-4423-8960-01a6fc9f4a6f",
   "metadata": {},
   "outputs": [],
   "source": [
    "def write_csv(forecast, fact, forecast_model, z=48, append=True):\n",
    "    mode = 'at' if append else 'wt'\n",
    "    # Запись прогноза\n",
    "    forecast_header = ['date_term'] + [f'z_{x}' for x in range(z + 1)]\n",
    "    with open(f'data/forecast_{forecast_model}.csv', mode, newline='') as f_forecast:\n",
    "        forecast_writer = csv.writer(f_forecast, delimiter=';')\n",
    "        if mode == 'wt':\n",
    "            forecast_writer.writerow(forecast_header)\n",
    "        forecast_writer.writerows(forecast)\n",
    "    # Запись факта\n",
    "    fact_header = ['date'] + [f't_{x % 24}' for x in range(0, z + 1, 3)]\n",
    "    with open(f'data/fact.csv', mode, newline='') as f_fact:\n",
    "        fact_writer = csv.writer(f_fact, delimiter=';')\n",
    "        if mode == 'wt':\n",
    "            fact_writer.writerow(fact_header)\n",
    "        fact_writer.writerows(fact)\n",
    "\n",
    "    # Запись файла с датой последних данных в датасетах\n",
    "    date_time = forecast[-1][0]\n",
    "    write_last_date_file(date_time)"
   ]
  },
  {
   "cell_type": "markdown",
   "id": "da095f0e-7724-4015-a72f-82df99670421",
   "metadata": {},
   "source": [
    "#### Функция записи файла с датой последних данных в датасетах"
   ]
  },
  {
   "cell_type": "code",
   "execution_count": 78,
   "id": "a6400dc3-10bd-4b61-bd08-a1889a8901ca",
   "metadata": {},
   "outputs": [],
   "source": [
    "def write_last_date_file(date_time):\n",
    "    with open(f'data/last_date.txt', 'wt') as f:\n",
    "        f.write(str(date_time))"
   ]
  },
  {
   "cell_type": "markdown",
   "id": "85ad8c04-bff4-4857-8e72-6311f680d500",
   "metadata": {},
   "source": [
    "#### Функция чтения файла с датой последних данных в датасетах"
   ]
  },
  {
   "cell_type": "code",
   "execution_count": 105,
   "id": "1bf3a5e5-61b6-467f-838e-c74eba62d733",
   "metadata": {},
   "outputs": [],
   "source": [
    "def read_last_date_file():\n",
    "    with open(f'data/last_date.txt', 'rt') as f:\n",
    "        date_time_str = f.readline()\n",
    "        date_time = datetime.strptime(date_time_str, '%Y-%m-%d %H:%M:%S')\n",
    "    return date_time"
   ]
  },
  {
   "cell_type": "code",
   "execution_count": 90,
   "id": "7b0ac367-8ba8-4d15-b3a0-c2d1b95f2e49",
   "metadata": {},
   "outputs": [
    {
     "data": {
      "text/plain": [
       "datetime.datetime(2024, 1, 6, 0, 0)"
      ]
     },
     "execution_count": 90,
     "metadata": {},
     "output_type": "execute_result"
    }
   ],
   "source": [
    "read_last_date_file()"
   ]
  },
  {
   "cell_type": "markdown",
   "id": "88f74fc2-990d-4732-9965-e9a0ea486760",
   "metadata": {},
   "source": [
    "## Функция создания на диске датасетов forecast, fact"
   ]
  },
  {
   "cell_type": "code",
   "execution_count": 79,
   "id": "1c897b8a-acf3-47c9-9b05-6e9c31829e8d",
   "metadata": {},
   "outputs": [],
   "source": [
    "def create_datasets(start_date, forecast_model, z=48):\n",
    "    forecast, fact = read_temperature_from_db(start_date, '')\n",
    "    write_csv(forecast, fact, forecast_model, z=z, append=False)"
   ]
  },
  {
   "cell_type": "code",
   "execution_count": 142,
   "id": "8289b00f-3d18-4bf8-a785-ae006ec7c338",
   "metadata": {},
   "outputs": [
    {
     "name": "stdout",
     "output_type": "stream",
     "text": [
      "1 day, 17:28:09.833848\n",
      "Прервано - для даты 2024-01-07 00:00:00 не хватит фактических данных!\n",
      "x [datetime.datetime(2022, 11, 5, 0, 0), 4.638, 4.118, 3.396, 2.756, 1.855, 0.817, 0.668, 1.091, 2.043, 3.152, 4.045, 4.577, 4.541, 4.278, 3.244, 2.414, 1.979, 1.642, 1.631, 1.587, 1.535, 1.776, 2.175, 2.486, 2.702, 2.911, 3.105, 3.308, 3.55, 3.769, 4.043, 4.34, 4.66, 4.954, 5.217, 5.46, 5.622, 5.774, 5.864, 5.897, 5.978, 6.109, 6.303, 6.368, 6.331, 6.58, None, 6.754, 6.694]\n",
      "x [datetime.datetime(2022, 11, 7, 0, 0), 4.293, 4.187, 4.182, 4.581, 4.85, 5.203, 5.301, 5.838, 6.525, 6.703, 6.846, 7.786, 8.512, None, 8.476, 8.345, 8.393, 8.356, 8.256, 8.161, 8.123, 7.983, 7.41, 6.643, 5.99, 5.361, 5.144, 5.378, 5.498, 5.401, 5.217, 5.913, 6.881, 7.712, 7.816, 7.75, 7.756, 7.926, 7.894, 7.805, 7.803, 7.862, 7.685, 7.696, 7.865, 7.862, 7.844, 7.939, 7.097]\n",
      "x [datetime.datetime(2022, 12, 23, 0, 0), 1.255, 1.178, 1.157, 1.155, 1.09, 1.152, 1.127, 1.014, 0.988, None, 0.932, 0.925, 0.937, 0.932, 0.851, 1.016, 0.678, 0.629, 0.662, 0.736, 0.416, 0.092, 0.151, 0.228, 0.389, 0.466, 0.452, 0.462, 0.471, 0.583, 0.626, 0.206, 0.532, 0.506, 0.696, 0.639, 0.502, 0.488, 0.064, -0.459, -1.088, -2.144, -4.787, -7.075, -7.622, -8.118, -8.592, -8.959, -9.224]\n",
      "x [datetime.datetime(2022, 12, 26, 0, 0), -10.687, -11.82, -12.941, -14.259, None, -14.267, -13.682, -13.269, -11.832, -10.451, -9.638, -8.837, -8.1, -7.546, -6.883, -6.007, -5.196, -4.358, -3.496, -2.661, -1.781, -1.025, -0.459, 0.096, 0.478, 0.745, 1.074, 1.309, 1.274, 1.277, 1.23, 1.515, 2.255, 1.101, 1.092, 1.136, 1.105, 1.345, 1.13, 0.979, 0.825, 0.635, 0.481, 0.751, 0.675, 0.318, 0.069, 0.133, 0.139]\n",
      "y [datetime.datetime(2023, 9, 3, 0, 0), 9.2, 8.9, 14.3, 21.0, 22.5, 19.6, 15.2, 10.8, 9.0, 7.2, 19.7, 20.7, 21.8, None, None, None, None]\n",
      "y [datetime.datetime(2023, 9, 4, 0, 0), 9.0, 7.2, 19.7, 20.7, 22.3, 21.9, 14.7, 10.0, 7.8, 6.1, 15.8, None, None, None, None, None, None]\n",
      "[239, 238, 55, 52, 6, 4]\n"
     ]
    }
   ],
   "source": [
    "create_datasets('01-11-2022', 'gfs', z=48)"
   ]
  },
  {
   "cell_type": "markdown",
   "id": "f9d5b9dc-34a0-4360-967d-259e7c948695",
   "metadata": {},
   "source": [
    "## Функция обновления датасетов новыми данными"
   ]
  },
  {
   "cell_type": "code",
   "execution_count": 112,
   "id": "7b39fdf2-59f1-402c-b6d0-1164cc11ca78",
   "metadata": {},
   "outputs": [],
   "source": [
    "def update_datasets(forecast_model, z=48):\n",
    "    update_date_time = read_last_date_file() + timedelta(hours=24)\n",
    "    date_str = update_date_time.strftime('%d-%m-%Y')    \n",
    "    forecast, fact = read_temperature_from_db(date_str, '')\n",
    "    if forecast:\n",
    "        write_csv(forecast, fact, forecast_model, z=z, append=True)\n",
    "    else:\n",
    "        print(f'Прервано - для даты {update_date_time} не хватит фактических данных!')"
   ]
  },
  {
   "cell_type": "code",
   "execution_count": 113,
   "id": "b1ee8518-5ee9-486f-b01c-86c39865a25b",
   "metadata": {},
   "outputs": [
    {
     "name": "stdout",
     "output_type": "stream",
     "text": [
      "1 day, 14:51:36.147747\n",
      "Прервано - для даты 2024-01-07 00:00:00 не хватит фактических данных!\n",
      "[]\n",
      "Прервано - для даты 2024-01-07 00:00:00 не хватит фактических данных!\n"
     ]
    }
   ],
   "source": [
    "update_datasets('gfs', z=48)"
   ]
  },
  {
   "cell_type": "markdown",
   "id": "c2ccb54c-34f0-42f7-9f75-8f025e3070d4",
   "metadata": {},
   "source": [
    "#### Функция чтения датасетов из csv файлов"
   ]
  },
  {
   "cell_type": "code",
   "execution_count": 143,
   "id": "c041bb9c-7706-49ff-a337-cc050c9b365a",
   "metadata": {},
   "outputs": [],
   "source": [
    "def read_datasets(forecast_model):\n",
    "    forecast = []\n",
    "    with open(f'data/forecast_{forecast_model}.csv', 'rt', newline='') as f_forecast:\n",
    "        forecast_reader = csv.reader(f_forecast, delimiter=';')\n",
    "        forecast_header = next(forecast_reader)\n",
    "        for row in forecast_reader:\n",
    "            r = []\n",
    "            for i, e in enumerate(row):\n",
    "                if i == 0:\n",
    "                    r.append(datetime.strptime(e, '%Y-%m-%d %H:%M:%S'))\n",
    "                else:\n",
    "                    r.append(float(e))\n",
    "            forecast.append(r)\n",
    "            \n",
    "    fact = []\n",
    "    with open('data/fact.csv', 'rt', newline='') as f_fact:\n",
    "        fact_reader = csv.reader(f_fact, delimiter=';')\n",
    "        fact_header = next(fact_reader)\n",
    "        for row in fact_reader:\n",
    "            r = []\n",
    "            for i, e in enumerate(row):\n",
    "                if i == 0:\n",
    "                    r.append(datetime.strptime(e, '%Y-%m-%d %H:%M:%S'))\n",
    "                else:\n",
    "                    r.append(float(e))\n",
    "            fact.append(r)\n",
    "\n",
    "    return forecast, fact"
   ]
  },
  {
   "cell_type": "code",
   "execution_count": 144,
   "id": "f7206f7a-c1f8-4065-8dd5-ef8fd20f2a6e",
   "metadata": {},
   "outputs": [
    {
     "name": "stdout",
     "output_type": "stream",
     "text": [
      "[datetime.datetime(2024, 1, 6, 0, 0), -8.31, -9.065, -9.506, -9.948, -10.522, -11.134, -11.505, -11.093, -9.509, -8.594, -8.332, -8.352, -8.74, -9.907, -11.953, -12.769, -13.373, -14.027, -14.421, -14.838, -15.124, -15.554, -15.756, -15.815, -15.843, -15.897, -16.161, -16.078, -16.048, -16.113, -16.189, -16.209, -15.701, -14.911, -14.224, -13.661, -13.4, -13.698, -14.436, -14.934, -14.955, -14.959, -14.923, -14.829, -14.833, -14.76, -14.699, -14.724, -14.666]\n",
      "[datetime.datetime(2024, 1, 6, 0, 0), -6.8, -7.8, -6.9, -6.4, -6.5, -7.9, -10.0, -15.2, -19.4, -20.9, -19.6, -18.2, -15.9, -17.3, -18.3, -19.2, -19.4]\n"
     ]
    }
   ],
   "source": [
    "forecast, fact = read_datasets('gfs')\n",
    "print(forecast[-1])\n",
    "print(fact[-1])"
   ]
  },
  {
   "cell_type": "markdown",
   "id": "2d5bea3e-c8fa-4b1a-b6b7-1c5ab69e69ef",
   "metadata": {},
   "source": [
    "#### Функция подготовки X и y"
   ]
  },
  {
   "cell_type": "code",
   "execution_count": 4,
   "id": "2e891e27-3877-4bbb-8957-41296349c723",
   "metadata": {},
   "outputs": [],
   "source": [
    "def get_xy(foreast, fact):\n",
    "    X = np.array([x[1:] for x in forecast])\n",
    "    y = np.array([y[1:] for y in fact])\n",
    "    print(X.shape)\n",
    "    print(y.shape)\n",
    "    return X, y"
   ]
  },
  {
   "cell_type": "markdown",
   "id": "4160ef05-7cc5-45e2-863a-0f2c99d7748c",
   "metadata": {},
   "source": [
    "#### Функция интерполяции строк целевых значений y"
   ]
  },
  {
   "cell_type": "code",
   "execution_count": 6,
   "id": "8983195c-e194-4027-b29b-5b7e893f1fae",
   "metadata": {},
   "outputs": [],
   "source": [
    "def interpolate_y_rows(arr, knots, degree=2):\n",
    "    x = np.linspace(0, arr.shape[1], arr.shape[1])\n",
    "    x_knots = np.linspace(0, arr.shape[1], knots)\n",
    "    arr_new = []\n",
    "    for y in arr:\n",
    "        x_spl = splrep(x, y, k=degree)\n",
    "        y2 = splev(x_knots, x_spl)\n",
    "        arr_new.append(y2)\n",
    "\n",
    "    \n",
    "    return np.array(arr_new)\n"
   ]
  },
  {
   "cell_type": "markdown",
   "id": "bbcab432-810b-4b43-82ee-963bbd2a97c4",
   "metadata": {},
   "source": [
    "#### Функция аугментации данных"
   ]
  },
  {
   "cell_type": "code",
   "execution_count": 7,
   "id": "ecf78dd5-51a2-4afb-b266-42b7123d9c26",
   "metadata": {},
   "outputs": [],
   "source": [
    "def augment_data(x_data, y_data, knots, degree=2):\n",
    "    data_len = len(y_data)\n",
    "    prior_points = np.linspace(0, data_len, data_len)\n",
    "    \n",
    "    xy = []\n",
    "    for z in (x_data, y_data):\n",
    "        z_splitted = np.hsplit(z, z.shape[1])\n",
    "        #print(x_splitted)\n",
    "        z_list = []\n",
    "        for arr in z_splitted:\n",
    "            z_spl = splrep(prior_points, arr, k=degree)\n",
    "            z_points_n = np.linspace(0, data_len, knots)\n",
    "            z_col_augmented = splev(z_points_n, z_spl)\n",
    "            z_list.append(z_col_augmented)\n",
    "        z_augmented = np.array(z_list).T\n",
    "        xy.append(z_augmented)\n",
    "    \n",
    "    x_result, y_result = xy\n",
    "    return x_result, y_result"
   ]
  },
  {
   "cell_type": "markdown",
   "id": "e574ecc2-3e88-44ad-8c8e-410d33e00f72",
   "metadata": {},
   "source": [
    "#### Функция получения трансформеров данных"
   ]
  },
  {
   "cell_type": "code",
   "execution_count": 9,
   "id": "e7b7fbd8-0f71-4655-b501-5461620286e9",
   "metadata": {},
   "outputs": [],
   "source": [
    "def get_transformer(transformer, n_samples=10_000):\n",
    "    scaler = (\n",
    "        StandardScaler() if transformer == 'standard' else \\\n",
    "        MinMaxScaler() if transformer == 'minmax' else \\\n",
    "        MaxAbsScaler() if transformer == 'maxabs' else \\\n",
    "        RobustScaler() if transformer == 'robust' else \\\n",
    "        QuantileTransformer(output_distribution='uniform', n_quantiles=min(10_000, n_samples), random_state=0) if transformer == 'uniform' else \\\n",
    "        QuantileTransformer(output_distribution='normal', n_quantiles=min(10_000, n_samples), random_state=0) if transformer == 'normal' else \\\n",
    "        PowerTransformer(method='box-cox', standardize=False) if transformer == 'normal-bc' else \\\n",
    "        PowerTransformer(method='yeo-johnson', standardize=False) if transformer == 'normal-yj' else \\\n",
    "        PowerTransformer(method='box-cox', standardize=True) if transformer == 'normal-bc-st' else \\\n",
    "        PowerTransformer(method='yeo-johnson', standardize=True) if transformer == 'normal-yj-st' else \\\n",
    "        None\n",
    "    )\n",
    "    return scaler"
   ]
  },
  {
   "cell_type": "markdown",
   "id": "6a60e432-9835-419c-9eac-581ceed5a843",
   "metadata": {},
   "source": [
    "## Функция оценки моделей"
   ]
  },
  {
   "cell_type": "code",
   "execution_count": 145,
   "id": "9668581b-3938-440c-a3a6-dec2ecb9536c",
   "metadata": {},
   "outputs": [],
   "source": [
    "def evaluate_models():\n",
    "\n",
    "    # Чтение данных из датасетов csv\n",
    "    forecast, fact = read_datasets('gfs')\n",
    "    \n",
    "    # Получение первичных данных X, y\n",
    "    X_prior, y_prior = get_xy(forecast, fact)\n",
    "    \n",
    "    # Интерполяция фактических значений\n",
    "    y = interpolate_y_rows(y_prior, 49, degree=2)\n",
    "    y_points_prior = np.linspace(0, y_prior.shape[1], y_prior.shape[1])\n",
    "    y_points = np.linspace(0, y_prior.shape[1], y.shape[1])\n",
    "    \n",
    "    # plt.plot(y_points, y[-1], 'o', y_points_int, y_int[-1])\n",
    "    plt.plot(y_points_prior, y_prior[-13], 'o')\n",
    "    plt.plot(y_points, y[-13])\n",
    "    plt.legend()\n",
    "    plt.show()\n",
    "    \n",
    "    \n",
    "    # Аугментация данных\n",
    "    X, y = augment_data(X_prior, y, 3000, degree=1)\n",
    "    print(X.shape, y.shape)\n",
    "    \n",
    "    \n",
    "    # Разделение на тренировочный и тестовый набор\n",
    "    X_train, X_test, y_train, y_test = train_test_split(X, y, test_size=0.2, shuffle=True, random_state=42)\n",
    "    print(X_train)\n",
    "    \n",
    "    # Условия масштабирования\n",
    "    scaler_x = 'normal-yj-st'\n",
    "    scaler_y = None\n",
    "    \n",
    "    # Подготовка трансформеров\n",
    "    transformer_x = get_transformer(scaler_x, n_samples=y_train.shape[0]) # !!!\n",
    "    transformer_y = get_transformer(scaler_y, n_samples=y_train.shape[0]) # !!!\n",
    "    \n",
    "    # Подготовка модели\n",
    "    # model = KNeighborsRegressor(n_neighbors = 7)\n",
    "    # model = RidgeCV()\n",
    "    model = ExtraTreesRegressor(n_estimators=150, random_state=0)\n",
    "    # model = RandomForestRegressor(n_estimators=150, random_state=0)\n",
    "    # model = GaussianProcessRegressor(kernel=DotProduct() + WhiteKernel(), random_state=0)\n",
    "    # model = MLPRegressor(hidden_layer_sizes=(49, 21, 7, 21, 49), random_state=0, max_iter=1000, alpha=0.0001, activation='relu')\n",
    "    \n",
    "    # Трансформация целевых значений y\n",
    "    if scaler_y: \n",
    "        regressor = TransformedTargetRegressor(regressor=model, transformer=transformer_y)\n",
    "    else:\n",
    "        regressor = model\n",
    "    \n",
    "    # Декомпозиция\n",
    "    # decomposition = PCA(n_components='mle', random_state=0, whiten = True)\n",
    "    decomposition = PCA(n_components=None, random_state=0, whiten = True, svd_solver='randomized') #!!\n",
    "    # decomposition = IncrementalPCA(n_components=None, whiten = True)\n",
    "    # decomposition = KernelPCA(\n",
    "    #     n_components=None, kernel=\"rbf\", gamma=10, fit_inverse_transform=True, alpha=0.1\n",
    "    # )\n",
    "    \n",
    "    # Трансформация признаков X\n",
    "    regr = make_pipeline(transformer_x, decomposition, regressor) if transformer_x else regressor\n",
    "    # regr = make_pipeline(transformer_x, regressor) if transformer_x else regressor\n",
    "    \n",
    "    # Обучение моделей\n",
    "    regr.fit(X_train, y_train)\n",
    "    \n",
    "    # Запись модели в файл\n",
    "    \n",
    "    # Оценка качества модели\n",
    "    predicted = regr.predict(X_test)\n",
    "    r2 = regr.score(X_test, y_test)\n",
    "    print(r2)\n",
    "    _ = quality(y_test, predicted)\n",
    "\n",
    "    # Оценка качества исходного прогноза\n",
    "    _ = quality(X_train, y_train)"
   ]
  },
  {
   "cell_type": "code",
   "execution_count": 146,
   "id": "af8be15b-b063-4829-a3b0-ece6d0a34d32",
   "metadata": {},
   "outputs": [
    {
     "name": "stderr",
     "output_type": "stream",
     "text": [
      "No artists with labels found to put in legend.  Note that artists whose label start with an underscore are ignored when legend() is called with no argument.\n"
     ]
    },
    {
     "name": "stdout",
     "output_type": "stream",
     "text": [
      "(358, 49)\n",
      "(358, 17)\n"
     ]
    },
    {
     "data": {
      "image/png": "[encoded data removed]",
      "text/plain": [
       "<Figure size 640x480 with 1 Axes>"
      ]
     },
     "metadata": {},
     "output_type": "display_data"
    },
    {
     "name": "stdout",
     "output_type": "stream",
     "text": [
      "(3000, 49) (3000, 49)\n",
      "[[  0.47664288   0.73944281   1.54698333 ...  -1.48507903  -1.57075859\n",
      "   -1.51834912]\n",
      " [ -3.31407703  -3.20665522  -3.42065689 ...  -4.23076392  -4.44921507\n",
      "   -4.462999  ]\n",
      " [ -2.50327609  -2.76086362  -2.99753451 ... -12.92124975 -13.38352818\n",
      "  -13.65094598]\n",
      " ...\n",
      " [  0.61674225   0.42999      0.46638613 ...   4.1265952    3.48283661\n",
      "    3.06462121]\n",
      " [  8.24074558   8.05834345   7.97037246 ...   7.86877459   7.35688663\n",
      "    7.03730944]\n",
      " [ -3.41807503  -3.5651944   -3.72635579 ...  -0.53144648  -0.69653718\n",
      "   -0.91466289]]\n",
      "0.9969403521377459\n",
      "r2_score: 0.9969403521377459\n",
      "mean_absolute_error: 0.2963063869062912\n",
      "mean_squared_error: 0.24230825811511172\n",
      "median_absolute_error: 0.17299528533793043\n",
      "r2_score: 0.9581319957564763\n",
      "mean_absolute_error: 1.3691624659168706\n",
      "mean_squared_error: 3.40955925297871\n",
      "median_absolute_error: 1.0556818195139435\n"
     ]
    }
   ],
   "source": [
    "evaluate_models()"
   ]
  },
  {
   "cell_type": "markdown",
   "id": "d5de05b1-4af3-432e-a0a3-3a1f8bf6a788",
   "metadata": {},
   "source": [
    "#### Функция записи моделей в файл"
   ]
  },
  {
   "cell_type": "code",
   "execution_count": 161,
   "id": "331e7f4f-33b2-4e5c-ac75-97a3c33413e3",
   "metadata": {},
   "outputs": [],
   "source": [
    "def write_model(model_obj, forecast_model, date_str):\n",
    "    with open(f'data/{forecast_model}-{date_str}.bin', 'wb') as f:\n",
    "        model_bin = pickle.dump(model_obj, f, pickle.HIGHEST_PROTOCOL)"
   ]
  },
  {
   "cell_type": "markdown",
   "id": "e7b2befc-3734-4fba-acff-a5c623b663d4",
   "metadata": {},
   "source": [
    "## Функция обучения моделей и записи в виде файлов"
   ]
  },
  {
   "cell_type": "code",
   "execution_count": 162,
   "id": "b51192ad-3f11-4691-8ae1-1e90b5927e86",
   "metadata": {},
   "outputs": [],
   "source": [
    "def train_models(forecast_model):\n",
    "\n",
    "    # Чтение данных из датасетов csv\n",
    "    forecast, fact = read_datasets(forecast_model)\n",
    "    \n",
    "    # Получение первичных данных X, y\n",
    "    X_prior, y_prior = get_xy(forecast, fact)\n",
    "    \n",
    "    # Интерполяция фактических значений\n",
    "    y = interpolate_y_rows(y_prior, 49, degree=2)\n",
    "    y_points_prior = np.linspace(0, y_prior.shape[1], y_prior.shape[1])\n",
    "    y_points = np.linspace(0, y_prior.shape[1], y.shape[1])\n",
    "    \n",
    "    # plt.plot(y_points, y[-1], 'o', y_points_int, y_int[-1])\n",
    "    plt.plot(y_points_prior, y_prior[-13], 'o')\n",
    "    plt.plot(y_points, y[-13])\n",
    "    plt.legend()\n",
    "    plt.show()\n",
    "    \n",
    "    \n",
    "    # Аугментация данных\n",
    "    X, y = augment_data(X_prior, y, 3000, degree=1)\n",
    "    print(X.shape, y.shape)\n",
    "    \n",
    "    \n",
    "    # # Разделение на тренировочный и тестовый набор\n",
    "    # X_train, X_test, y_train, y_test = train_test_split(X, y, test_size=0.2, shuffle=True, random_state=42)\n",
    "    # print(X_train)\n",
    "    \n",
    "    # Условия масштабирования\n",
    "    scaler_x = 'normal-yj-st'\n",
    "    scaler_y = None\n",
    "    \n",
    "    # Подготовка трансформеров\n",
    "    transformer_x = get_transformer(scaler_x, n_samples=y.shape[0]) # !!!\n",
    "    transformer_y = get_transformer(scaler_y, n_samples=y.shape[0]) # !!!\n",
    "    \n",
    "    # Подготовка модели\n",
    "    # model = KNeighborsRegressor(n_neighbors = 7)\n",
    "    # model = RidgeCV()\n",
    "    model = ExtraTreesRegressor(n_estimators=150, random_state=0)\n",
    "    # model = RandomForestRegressor(n_estimators=150, random_state=0)\n",
    "    # model = GaussianProcessRegressor(kernel=DotProduct() + WhiteKernel(), random_state=0)\n",
    "    # model = MLPRegressor(hidden_layer_sizes=(49, 21, 7, 21, 49), random_state=0, max_iter=1000, alpha=0.0001, activation='relu')\n",
    "    \n",
    "    # Трансформация целевых значений y\n",
    "    if scaler_y: \n",
    "        regressor = TransformedTargetRegressor(regressor=model, transformer=transformer_y)\n",
    "    else:\n",
    "        regressor = model\n",
    "    \n",
    "    # Декомпозиция\n",
    "    # decomposition = PCA(n_components='mle', random_state=0, whiten = True)\n",
    "    decomposition = PCA(n_components=None, random_state=0, whiten = True, svd_solver='randomized') #!!\n",
    "    # decomposition = IncrementalPCA(n_components=None, whiten = True)\n",
    "    # decomposition = KernelPCA(\n",
    "    #     n_components=None, kernel=\"rbf\", gamma=10, fit_inverse_transform=True, alpha=0.1\n",
    "    # )\n",
    "    \n",
    "    # Трансформация признаков X\n",
    "    regr = make_pipeline(transformer_x, decomposition, regressor) if transformer_x else regressor\n",
    "    # regr = make_pipeline(transformer_x, regressor) if transformer_x else regressor\n",
    "    \n",
    "    # Обучение моделей\n",
    "    regr.fit(X, y)\n",
    "    \n",
    "    # Запись модели в файл\n",
    "    date_str = datetime.strftime(forecast[-1][0], '%Y-%m-%d_%H')\n",
    "    write_model(regr, forecast_model, date_str)\n",
    "    \n",
    "    # Оценка качества модели\n",
    "    predicted = regr.predict(X)\n",
    "    r2 = regr.score(X, y)\n",
    "    print(r2)\n",
    "    _ = quality(y, predicted)\n",
    "    "
   ]
  },
  {
   "cell_type": "code",
   "execution_count": 163,
   "id": "f77bceb2-be0c-4a91-ac01-3f8d32670b66",
   "metadata": {},
   "outputs": [
    {
     "name": "stderr",
     "output_type": "stream",
     "text": [
      "No artists with labels found to put in legend.  Note that artists whose label start with an underscore are ignored when legend() is called with no argument.\n"
     ]
    },
    {
     "name": "stdout",
     "output_type": "stream",
     "text": [
      "(358, 49)\n",
      "(358, 17)\n"
     ]
    },
    {
     "data": {
      "image/png": "[encoded data removed]",
      "text/plain": [
       "<Figure size 640x480 with 1 Axes>"
      ]
     },
     "metadata": {},
     "output_type": "display_data"
    },
    {
     "name": "stdout",
     "output_type": "stream",
     "text": [
      "(3000, 49) (3000, 49)\n",
      "1.0\n",
      "r2_score: 1.0\n",
      "mean_absolute_error: 1.4495221500210888e-14\n",
      "mean_squared_error: 5.014702137780636e-28\n",
      "median_absolute_error: 8.109159602313134e-15\n"
     ]
    }
   ],
   "source": [
    "train_models('gfs')"
   ]
  },
  {
   "cell_type": "code",
   "execution_count": 15,
   "id": "bfa545a9-be4f-4abb-b792-8beca556c730",
   "metadata": {},
   "outputs": [],
   "source": [
    "def quality(y_true, predicted):\n",
    "    q = {}\n",
    "    q[\"r2_score\"] = r2_score(y_true, predicted) #q_max_error \n",
    "    # q[max_error] = max_error(y_true, predicted) #q_max_error \n",
    "    q[\"mean_absolute_error\"] = mean_absolute_error(y_true, predicted) #q_mean_absolute_error\n",
    "    q[\"mean_squared_error\"] = mean_squared_error(y_true, predicted) #q_mean_squared_error \n",
    "    # q[mean_squared_log_error] = mean_squared_log_error(y_true, predicted) #q_mean_squared_log_error \n",
    "    q[\"median_absolute_error\"] = median_absolute_error(y_true, predicted) #q_median_absolute_error \n",
    "\n",
    "    print(\n",
    "    f'r2_score: {q[\"r2_score\"]}',\n",
    "    # f'max_error: {q[1]}',\n",
    "    f'mean_absolute_error: {q[\"mean_absolute_error\"]}',\n",
    "    f'mean_squared_error: {q[\"mean_squared_error\"]}',\n",
    "    # f'mean_squared_log_error: {q[4]}',\n",
    "    f'median_absolute_error: {q[\"median_absolute_error\"]}',\n",
    "    sep='\\n')\n",
    "    \n",
    "    return q\n"
   ]
  },
  {
   "cell_type": "code",
   "execution_count": 26,
   "id": "80c387a9-824f-4ea7-92c4-bf25dd23b05e",
   "metadata": {},
   "outputs": [
    {
     "data": {
      "image/png": "[encoded data removed]",
      "text/plain": [
       "<Figure size 640x480 with 1 Axes>"
      ]
     },
     "metadata": {},
     "output_type": "display_data"
    }
   ],
   "source": [
    "y_points = np.linspace(0, y.shape[1], y.shape[1])\n",
    "# y_points_int = np.linspace(0, y.shape[1], y_int.shape[1])\n",
    "x_points = np.linspace(0, y.shape[1], X.shape[1])\n",
    "\n",
    "plt.plot(y_points, y_test[-25], label='Факт')\n",
    "plt.plot(y_points, predicted[-25], label='Прогноз')\n",
    "plt.plot(x_points, X_test[-25], label='GFS')\n",
    "plt.legend()\n",
    "plt.show()"
   ]
  },
  {
   "cell_type": "code",
   "execution_count": 25,
   "id": "e7899dbd-ed9b-4a5f-a568-23be5c0877da",
   "metadata": {},
   "outputs": [
    {
     "data": {
      "text/plain": [
       "<Axes: >"
      ]
     },
     "execution_count": 25,
     "metadata": {},
     "output_type": "execute_result"
    },
    {
     "data": {
      "image/png": "[encoded data removed]",
      "text/plain": [
       "<Figure size 640x480 with 1 Axes>"
      ]
     },
     "metadata": {},
     "output_type": "display_data"
    }
   ],
   "source": [
    "# test_data = np.vstack((y_test[20], predicted[20])).T\n",
    "test_data = np.vstack((y_test[-25], predicted[-25], X_test[-25])).T\n",
    "# test_data = np.vstack((y_test[-1], y_test[-2], X_test[-1][::3])).T\n",
    "sns.lineplot(data=test_data)"
   ]
  },
  {
   "cell_type": "code",
   "execution_count": 20,
   "id": "21200448-d5ae-40c2-aec2-570d08830a12",
   "metadata": {},
   "outputs": [
    {
     "name": "stdout",
     "output_type": "stream",
     "text": [
      "[[0.         0.         0.         0.         0.         0.\n",
      "  0.16666667 0.66666667 0.16666667 0.         0.         0.\n",
      "  0.         0.         0.        ]\n",
      " [0.         0.         0.         0.         0.         0.\n",
      "  0.         0.         0.         0.16666667 0.66666667 0.16666667\n",
      "  0.         0.         0.        ]\n",
      " [0.         0.         0.         0.         0.         0.\n",
      "  0.         0.02083333 0.47916667 0.47916667 0.02083333 0.\n",
      "  0.         0.         0.        ]\n",
      " [0.         0.         0.         0.         0.         0.\n",
      "  0.         0.         0.         0.         0.         0.\n",
      "  0.16666667 0.66666667 0.16666667]\n",
      " [0.         0.         0.         0.16666667 0.66666667 0.16666667\n",
      "  0.         0.         0.         0.         0.         0.\n",
      "  0.         0.         0.        ]\n",
      " [0.         0.         0.         0.         0.         0.\n",
      "  0.         0.02083333 0.47916667 0.47916667 0.02083333 0.\n",
      "  0.         0.         0.        ]\n",
      " [0.16666667 0.66666667 0.16666667 0.         0.         0.\n",
      "  0.         0.         0.         0.         0.         0.\n",
      "  0.         0.         0.        ]]\n"
     ]
    }
   ],
   "source": [
    "arr = np.array(\n",
    "   [[0], \n",
    "    [2],\n",
    "    [1], \n",
    "    [4], \n",
    "    [-2], \n",
    "    [1], \n",
    "    [-4]]\n",
    ")\n",
    "\n",
    "spt = SplineTransformer(n_knots=13)\n",
    "arr2 = spt.fit_transform(arr)\n",
    "print(arr2)"
   ]
  },
  {
   "cell_type": "code",
   "execution_count": null,
   "id": "f73491c2-5da1-4e12-a163-05a716331d87",
   "metadata": {},
   "outputs": [],
   "source": []
  }
 ],
 "metadata": {
  "kernelspec": {
   "display_name": "Python 3 (ipykernel)",
   "language": "python",
   "name": "python3"
  },
  "language_info": {
   "codemirror_mode": {
    "name": "ipython",
    "version": 3
   },
   "file_extension": ".py",
   "mimetype": "text/x-python",
   "name": "python",
   "nbconvert_exporter": "python",
   "pygments_lexer": "ipython3",
   "version": "3.10.11"
  }
 },
 "nbformat": 4,
 "nbformat_minor": 5
}
