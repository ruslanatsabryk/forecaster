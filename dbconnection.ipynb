{
 "cells": [
  {
   "cell_type": "code",
   "execution_count": 25,
   "id": "db81cc12-749a-420b-b374-6de5302430fd",
   "metadata": {},
   "outputs": [],
   "source": [
    "import oracledb\n",
    "import cx_Oracle\n",
    "from datetime import datetime, timedelta\n",
    "import numpy as np\n",
    "\n",
    "import seaborn as sns\n",
    "\n",
    "from sklearn.model_selection import train_test_split\n",
    "from sklearn.preprocessing import SplineTransformer\n",
    "from sklearn.neighbors import KNeighborsRegressor\n",
    "from sklearn.linear_model import RidgeCV\n",
    "from sklearn.ensemble import ExtraTreesRegressor\n",
    "from sklearn.ensemble import RandomForestRegressor"
   ]
  },
  {
   "cell_type": "code",
   "execution_count": 2,
   "id": "780c1f79-81cf-432a-91ce-5fb5737e8402",
   "metadata": {},
   "outputs": [],
   "source": [
    "try:\n",
    "    cx_Oracle.init_oracle_client(lib_dir=r\"F:\\ruslan\\dev\\oracle\\instantclient_19_9\")\n",
    "except:\n",
    "    pass\n"
   ]
  },
  {
   "cell_type": "code",
   "execution_count": 3,
   "id": "8e588084-62e8-4218-bcbd-bb6cb3895a76",
   "metadata": {},
   "outputs": [],
   "source": [
    "conn_nwp = oracledb.connect(user=\"nwp\", password=\"modeli\", dsn=\"192.168.211.62/serv\")\n",
    "cursor_nwp = conn_nwp.cursor()\n",
    "\n",
    "cursor_nwp.execute(\"\"\"\n",
    "/* SELECT to_char(DATAS, 'YYYY-MM-DD'), ADVANCE_TIME,  TEMP */\n",
    "SELECT DATAS, ADVANCE_TIME,  TEMP\n",
    "FROM NWP.GROUND_DATA\n",
    "WHERE CITY_ID = 936 \n",
    "      AND model_id = 4\n",
    "      AND ADVANCE_TIME between 0 and 48\n",
    "      AND datas >= '01-08-2022'\n",
    "      /*AND datas between '01-08-2022' and '31-12-2022'*/\n",
    "      AND to_char(datas, 'HH24') = '00'\n",
    "ORDER BY datas, advance_time\n",
    "\"\"\")\n",
    "date = None\n",
    "forecast_arr = []\n",
    "f_row = [] \n",
    "for c in cursor_nwp:\n",
    "    # Нова дата - создаем новую строку данных\n",
    "    if date != c[0]:\n",
    "        # Если дата пройдена, присоединить строку данных f_row к массиву forecast_arr\n",
    "        if date:\n",
    "            forecast_arr.append(f_row) \n",
    "        # Инициализируем следующую дату и строку данных\n",
    "        date = c[0]       \n",
    "        f_row = [None for _ in range(50)]\n",
    "        f_row[0] = c[0] # Дату c[0] записать в позицию 0\n",
    "    # В позицию списка, равную заблаговременности c[1] записать температуру c[2]\n",
    "    f_row[c[1] + 1] = c[2]\n",
    "# Присоединить последнюю строку данных f_row к массиву forecast_arr\n",
    "forecast_arr.append(f_row)        \n",
    "# print(*forecast_arr, sep='\\n')\n",
    "conn_nwp.close()"
   ]
  },
  {
   "cell_type": "code",
   "execution_count": 4,
   "id": "acaac204-4a51-4c75-be24-d46e86487fc2",
   "metadata": {},
   "outputs": [],
   "source": [
    "conn_gts = cx_Oracle.connect(user=\"cligts\", password=\"belorgmc\", dsn=\"192.168.211.173/clidb\")\n",
    "cursor_gts = conn_gts.cursor()\n",
    "\n",
    "cursor_gts.execute(\n",
    "\"\"\"\n",
    "SELECT DATE_OBS, TEMPDB\n",
    "FROM gts.synop\n",
    "WHERE \n",
    "      date_obs >= '01-08-2022'\n",
    "      /* date_obs between '01-08-2022' and '31-12-2022' */\n",
    "      AND station_id = '26850'\n",
    "\"\"\")\n",
    "\n",
    "gts_rows = cursor_gts.fetchall()\n",
    "# for c in gts_rows:\n",
    "#     print(c)\n",
    "\n",
    "conn_gts.close()"
   ]
  },
  {
   "cell_type": "code",
   "execution_count": 5,
   "id": "7ca20855-ce7b-424a-9187-264abf072fae",
   "metadata": {},
   "outputs": [
    {
     "name": "stdout",
     "output_type": "stream",
     "text": [
      "1 day, 16:57:21.152183\n",
      "Прервано - для даты 2024-01-02 00:00:00 не хватит фактических данных!\n"
     ]
    }
   ],
   "source": [
    "# Формирование y - значений фактической температуры, соответствующих каждой дате на 48 часов вперед\n",
    "# Поиск каждой совпадающей строки по дате и сроку 00\n",
    "start = 0\n",
    "fact_arr = []\n",
    "forecast_X = []\n",
    "td48 = timedelta(hours=48)\n",
    "for f in forecast_arr:\n",
    "    date_nwp = f[0]\n",
    "    # Прервать выполнение, если от даты прогноза до текущего момента \n",
    "    # прошло менее или ровно 48 часов, т.к. не будет соответствующих фактических данных\n",
    "    if datetime.today() - date_nwp <= td48:\n",
    "        print(datetime.today() - date_nwp)\n",
    "        print(f'Прервано - для даты {date_nwp} не хватит фактических данных!')\n",
    "        break\n",
    "    # print('NWP Date:', date_nwp)\n",
    "    # print('GTS start:', start)\n",
    "    for i, g in enumerate(gts_rows[start:]):\n",
    "        if g[0] == f[0]: # Строка найдена\n",
    "            # print(f[0])\n",
    "            start += i\n",
    "            forecast_X.append(f)\n",
    "            break\n",
    "    # Инициализировать строку данных для фактической температуры 17 значений\n",
    "    g_row = [None for _ in range(18)]\n",
    "    g_row[0] = g[0]\n",
    "    # print('GTS Date:', g[0])\n",
    "    for j in range(17):\n",
    "        gts_date = gts_rows[start + j][0]\n",
    "        gts_temperature = gts_rows[start + j][1]\n",
    "        td = gts_date - date_nwp\n",
    "        # print('Time delta for g_row:', td, 'Temper;', gts_temperature)\n",
    "        # В пределах 48 часов\n",
    "        if td <= td48:\n",
    "            td_hours = int(td.days * 24 + td.seconds / 3600)\n",
    "            # print('td_hours', td_hours)\n",
    "            cell = td_hours // 3\n",
    "            # print('cell', cell)\n",
    "            g_row[cell + 1] = gts_temperature\n",
    "        else:\n",
    "            # start += i #!!!!\n",
    "            print('BREAK!!!')\n",
    "            break\n",
    "    fact_arr.append(g_row)\n",
    "    # print(g_row)\n",
    "\n",
    "# print(*forecast_arr, sep='\\n')\n",
    "# print('Fact:')\n",
    "# print(*fact_arr, sep='\\n')\n",
    "\n",
    "fact_y = fact_arr\n"
   ]
  },
  {
   "cell_type": "code",
   "execution_count": 6,
   "id": "d9a53759-830b-4154-a14b-3c8957ffd9fe",
   "metadata": {},
   "outputs": [
    {
     "name": "stdout",
     "output_type": "stream",
     "text": [
      "x [datetime.datetime(2022, 11, 5, 0, 0), 4.638, 4.118, 3.396, 2.756, 1.855, 0.817, 0.668, 1.091, 2.043, 3.152, 4.045, 4.577, 4.541, 4.278, 3.244, 2.414, 1.979, 1.642, 1.631, 1.587, 1.535, 1.776, 2.175, 2.486, 2.702, 2.911, 3.105, 3.308, 3.55, 3.769, 4.043, 4.34, 4.66, 4.954, 5.217, 5.46, 5.622, 5.774, 5.864, 5.897, 5.978, 6.109, 6.303, 6.368, 6.331, 6.58, None, 6.754, 6.694]\n",
      "x [datetime.datetime(2022, 11, 7, 0, 0), 4.293, 4.187, 4.182, 4.581, 4.85, 5.203, 5.301, 5.838, 6.525, 6.703, 6.846, 7.786, 8.512, None, 8.476, 8.345, 8.393, 8.356, 8.256, 8.161, 8.123, 7.983, 7.41, 6.643, 5.99, 5.361, 5.144, 5.378, 5.498, 5.401, 5.217, 5.913, 6.881, 7.712, 7.816, 7.75, 7.756, 7.926, 7.894, 7.805, 7.803, 7.862, 7.685, 7.696, 7.865, 7.862, 7.844, 7.939, 7.097]\n",
      "x [datetime.datetime(2022, 12, 23, 0, 0), 1.255, 1.178, 1.157, 1.155, 1.09, 1.152, 1.127, 1.014, 0.988, None, 0.932, 0.925, 0.937, 0.932, 0.851, 1.016, 0.678, 0.629, 0.662, 0.736, 0.416, 0.092, 0.151, 0.228, 0.389, 0.466, 0.452, 0.462, 0.471, 0.583, 0.626, 0.206, 0.532, 0.506, 0.696, 0.639, 0.502, 0.488, 0.064, -0.459, -1.088, -2.144, -4.787, -7.075, -7.622, -8.118, -8.592, -8.959, -9.224]\n",
      "x [datetime.datetime(2022, 12, 26, 0, 0), -10.687, -11.82, -12.941, -14.259, None, -14.267, -13.682, -13.269, -11.832, -10.451, -9.638, -8.837, -8.1, -7.546, -6.883, -6.007, -5.196, -4.358, -3.496, -2.661, -1.781, -1.025, -0.459, 0.096, 0.478, 0.745, 1.074, 1.309, 1.274, 1.277, 1.23, 1.515, 2.255, 1.101, 1.092, 1.136, 1.105, 1.345, 1.13, 0.979, 0.825, 0.635, 0.481, 0.751, 0.675, 0.318, 0.069, 0.133, 0.139]\n",
      "y [datetime.datetime(2023, 9, 3, 0, 0), 9.2, 8.9, 14.3, 21.0, 22.5, 19.6, 15.2, 10.8, 9.0, 7.2, 19.7, 20.7, 21.8, None, None, None, None]\n",
      "y [datetime.datetime(2023, 9, 4, 0, 0), 9.0, 7.2, 19.7, 20.7, 22.3, 21.9, 14.7, 10.0, 7.8, 6.1, 15.8, None, None, None, None, None, None]\n",
      "[330, 329, 146, 143, 97, 95]\n"
     ]
    }
   ],
   "source": [
    "# Проверка на пропущенные значения (None)\n",
    "damaged_rows = set()\n",
    "\n",
    "for i, (x, y) in enumerate(zip(forecast_X, fact_y)):\n",
    "    if x[0] != y[0]:\n",
    "        print(x[0], y[0])\n",
    "    damage_x = False\n",
    "    for xi in x: \n",
    "        if xi is None:\n",
    "            damage_x = True\n",
    "            break\n",
    "    if damage_x:\n",
    "        damaged_rows.add(i)\n",
    "        print('x', x)\n",
    "    \n",
    "    damage_y = False\n",
    "    for yi in y: \n",
    "        if yi is None:\n",
    "            damage_y = True\n",
    "            break\n",
    "    if damage_y:\n",
    "        damaged_rows.add(i)\n",
    "        print('y', y)\n",
    "\n",
    "damaged_rows = sorted(list(damaged_rows), reverse=True)\n",
    "print(damaged_rows)\n",
    "\n",
    "# Удаление строк с пропусками\n",
    "for i in damaged_rows:\n",
    "    forecast_X.pop(i)\n",
    "    fact_y.pop(i)\n"
   ]
  },
  {
   "cell_type": "code",
   "execution_count": 7,
   "id": "cd6e771c-3d52-4afb-8905-e716ebd6643a",
   "metadata": {},
   "outputs": [
    {
     "name": "stdout",
     "output_type": "stream",
     "text": [
      "[]\n"
     ]
    }
   ],
   "source": [
    "# Проверка на пропущенные значения (None)\n",
    "damaged_rows = set()\n",
    "\n",
    "for i, (x, y) in enumerate(zip(forecast_X, fact_y)):\n",
    "    if x[0] != y[0]:\n",
    "        print(x[0], y[0])\n",
    "    damage_x = False\n",
    "    for xi in x: \n",
    "        if xi is None:\n",
    "            damage_x = True\n",
    "            break\n",
    "    if damage_x:\n",
    "        damaged_rows.add(i)\n",
    "        print('x', x)\n",
    "    \n",
    "    damage_y = False\n",
    "    for yi in y: \n",
    "        if yi is None:\n",
    "            damage_y = True\n",
    "            break\n",
    "    if damage_y:\n",
    "        damaged_rows.add(i)\n",
    "        print('y', y)\n",
    "\n",
    "damaged_rows = sorted(list(damaged_rows), reverse=True)\n",
    "print(damaged_rows)"
   ]
  },
  {
   "cell_type": "code",
   "execution_count": 8,
   "id": "85fff330-374f-41df-b2cf-e04c39244589",
   "metadata": {},
   "outputs": [
    {
     "name": "stdout",
     "output_type": "stream",
     "text": [
      "(444, 49)\n",
      "(444, 17)\n"
     ]
    }
   ],
   "source": [
    "\n",
    "\n",
    "X = np.array([x[1:] for x in forecast_X])\n",
    "y = np.array([y[1:] for y in fact_y])\n",
    "\n",
    "print(X.shape)\n",
    "print(y.shape)"
   ]
  },
  {
   "cell_type": "code",
   "execution_count": 20,
   "id": "af8be15b-b063-4829-a3b0-ece6d0a34d32",
   "metadata": {},
   "outputs": [
    {
     "name": "stdout",
     "output_type": "stream",
     "text": [
      "[[ 0.196 -0.103 -0.327 ...  0.533  0.19   0.072]\n",
      " [-8.237 -8.03  -8.791 ... -0.477 -0.651 -0.867]\n",
      " [ 8.109  7.596  7.954 ... 12.376 12.089 11.978]\n",
      " ...\n",
      " [-2.397 -2.27  -2.183 ...  0.285  0.251  0.16 ]\n",
      " [ 5.688  5.664  5.643 ...  7.98   7.68   7.367]\n",
      " [ 5.348  4.021  3.043 ...  7.176  7.139  7.298]]\n"
     ]
    },
    {
     "data": {
      "text/plain": [
       "0.9141338542369875"
      ]
     },
     "execution_count": 20,
     "metadata": {},
     "output_type": "execute_result"
    }
   ],
   "source": [
    "X_train, X_test, y_train, y_test = train_test_split(X, y, test_size=0.1, shuffle = True)\n",
    "print(X_train)\n",
    "model = KNeighborsRegressor(n_neighbors = 25)\n",
    "# model = RidgeCV()\n",
    "# model = ExtraTreesRegressor(n_estimators=150, random_state=0)\n",
    "# model = RandomForestRegressor(n_estimators=150, random_state=0)\n",
    "model.fit(X_train, y_train)\n",
    "predicted = model.predict(X_test)\n",
    "r2 = model.score(X_test, y_test)\n",
    "r2"
   ]
  },
  {
   "cell_type": "code",
   "execution_count": 24,
   "id": "db2cb1b3-e48b-42b6-8bfe-4866f739c035",
   "metadata": {},
   "outputs": [
    {
     "name": "stdout",
     "output_type": "stream",
     "text": [
      "[[ -0.5    -3.296  -0.072]\n",
      " [  0.2    -3.056   0.15 ]\n",
      " [  0.5    -2.98    0.515]\n",
      " [  0.6    -2.704   1.05 ]\n",
      " [  0.3    -2.684   0.875]\n",
      " [ -0.7    -3.268   0.073]\n",
      " [ -1.8    -3.768  -1.735]\n",
      " [ -3.1    -4.54   -4.601]\n",
      " [ -5.5    -4.776  -7.587]\n",
      " [ -7.5    -5.136 -10.646]\n",
      " [-10.7    -5.624 -11.858]\n",
      " [-13.     -5.192 -11.796]\n",
      " [-12.9    -4.796 -10.958]\n",
      " [-15.1    -5.416 -11.549]\n",
      " [-16.7    -6.224 -11.872]\n",
      " [-17.1    -6.42  -11.634]\n",
      " [-18.6    -6.52  -10.949]]\n",
      "[ -0.5   0.2   0.5   0.6   0.3  -0.7  -1.8  -3.1  -5.5  -7.5 -10.7 -13.\n",
      " -12.9 -15.1 -16.7 -17.1 -18.6]\n",
      "[-3.296 -3.056 -2.98  -2.704 -2.684 -3.268 -3.768 -4.54  -4.776 -5.136\n",
      " -5.624 -5.192 -4.796 -5.416 -6.224 -6.42  -6.52 ]\n",
      "[ -0.072   0.15    0.515   1.05    0.875   0.073  -1.735  -4.601  -7.587\n",
      " -10.646 -11.858 -11.796 -10.958 -11.549 -11.872 -11.634 -10.949]\n"
     ]
    },
    {
     "data": {
      "text/plain": [
       "<Axes: >"
      ]
     },
     "execution_count": 24,
     "metadata": {},
     "output_type": "execute_result"
    },
    {
     "data": {
      "image/png": "[encoded data removed]",
      "text/plain": [
       "<Figure size 640x480 with 1 Axes>"
      ]
     },
     "metadata": {},
     "output_type": "display_data"
    }
   ],
   "source": [
    "# test_data = np.vstack((y_test[20], predicted[20])).T\n",
    "test_data = np.vstack((y_test[-1], predicted[-1], X_test[-1][::3])).T\n",
    "# test_data = np.vstack((y_test[-1], y_test[-2], X_test[-1][::3])).T\n",
    "print(test_data)\n",
    "print(y_test[-1])\n",
    "print(predicted[-1])\n",
    "print(X_test[-1][::3])\n",
    "\n",
    "sns.lineplot(data=test_data)"
   ]
  },
  {
   "cell_type": "code",
   "execution_count": 28,
   "id": "21200448-d5ae-40c2-aec2-570d08830a12",
   "metadata": {},
   "outputs": [
    {
     "name": "stdout",
     "output_type": "stream",
     "text": [
      "[[0.         0.         0.         0.         0.         0.\n",
      "  0.16666667 0.66666667 0.16666667 0.         0.         0.\n",
      "  0.         0.         0.        ]\n",
      " [0.         0.         0.         0.         0.         0.\n",
      "  0.         0.         0.         0.16666667 0.66666667 0.16666667\n",
      "  0.         0.         0.        ]\n",
      " [0.         0.         0.         0.         0.         0.\n",
      "  0.         0.02083333 0.47916667 0.47916667 0.02083333 0.\n",
      "  0.         0.         0.        ]\n",
      " [0.         0.         0.         0.         0.         0.\n",
      "  0.         0.         0.         0.         0.         0.\n",
      "  0.16666667 0.66666667 0.16666667]\n",
      " [0.         0.         0.         0.16666667 0.66666667 0.16666667\n",
      "  0.         0.         0.         0.         0.         0.\n",
      "  0.         0.         0.        ]\n",
      " [0.         0.         0.         0.         0.         0.\n",
      "  0.         0.02083333 0.47916667 0.47916667 0.02083333 0.\n",
      "  0.         0.         0.        ]\n",
      " [0.16666667 0.66666667 0.16666667 0.         0.         0.\n",
      "  0.         0.         0.         0.         0.         0.\n",
      "  0.         0.         0.        ]]\n"
     ]
    }
   ],
   "source": [
    "arr = np.array(\n",
    "   [[0], \n",
    "    [2],\n",
    "    [1], \n",
    "    [4], \n",
    "    [-2], \n",
    "    [1], \n",
    "    [-4]]\n",
    ")\n",
    "\n",
    "spt = SplineTransformer(n_knots=13)\n",
    "arr2 = spt.fit_transform(arr)\n",
    "print(arr2)"
   ]
  },
  {
   "cell_type": "code",
   "execution_count": null,
   "id": "f73491c2-5da1-4e12-a163-05a716331d87",
   "metadata": {},
   "outputs": [],
   "source": []
  }
 ],
 "metadata": {
  "kernelspec": {
   "display_name": "Python 3 (ipykernel)",
   "language": "python",
   "name": "python3"
  },
  "language_info": {
   "codemirror_mode": {
    "name": "ipython",
    "version": 3
   },
   "file_extension": ".py",
   "mimetype": "text/x-python",
   "name": "python",
   "nbconvert_exporter": "python",
   "pygments_lexer": "ipython3",
   "version": "3.10.11"
  }
 },
 "nbformat": 4,
 "nbformat_minor": 5
}
