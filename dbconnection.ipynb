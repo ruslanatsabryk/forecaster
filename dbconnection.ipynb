{
 "cells": [
  {
   "cell_type": "code",
   "execution_count": 1,
   "id": "db81cc12-749a-420b-b374-6de5302430fd",
   "metadata": {},
   "outputs": [],
   "source": [
    "import oracledb"
   ]
  },
  {
   "cell_type": "code",
   "execution_count": 2,
   "id": "8e588084-62e8-4218-bcbd-bb6cb3895a76",
   "metadata": {},
   "outputs": [],
   "source": [
    "conn_nwp = oracledb.connect(user=\"nwp\", password=\"modeli\", dsn=\"192.168.211.62/serv\")\n",
    "cursor = conn_nwp.cursor()\n",
    "\n",
    "cursor.execute(\"select * from model_num\")\n",
    "for c in cursor:\n",
    "    print(c)"
   ]
  },
  {
   "cell_type": "code",
   "execution_count": 5,
   "id": "acaac204-4a51-4c75-be24-d46e86487fc2",
   "metadata": {},
   "outputs": [
    {
     "ename": "OperationalError",
     "evalue": "DPY-6005: cannot connect to database (CONNECTION_ID=rm8o/mrB+zO7V4fKjShPOA==).\nDPY-4011: the database or network closed the connection\nHelp: https://python-oracledb.readthedocs.io/en/latest/user_guide/troubleshooting.html#dpy-4011",
     "output_type": "error",
     "traceback": [
      "\u001b[1;31m---------------------------------------------------------------------------\u001b[0m",
      "\u001b[1;31mDatabaseError\u001b[0m                             Traceback (most recent call last)",
      "File \u001b[1;32msrc\\\\oracledb\\\\impl/thin/connection.pyx:353\u001b[0m, in \u001b[0;36moracledb.thin_impl.ThinConnImpl._connect_with_address\u001b[1;34m()\u001b[0m\n",
      "File \u001b[1;32msrc\\\\oracledb\\\\impl/thin/protocol.pyx:207\u001b[0m, in \u001b[0;36moracledb.thin_impl.Protocol._connect_phase_one\u001b[1;34m()\u001b[0m\n",
      "File \u001b[1;32msrc\\\\oracledb\\\\impl/thin/protocol.pyx:382\u001b[0m, in \u001b[0;36moracledb.thin_impl.Protocol._process_message\u001b[1;34m()\u001b[0m\n",
      "File \u001b[1;32msrc\\\\oracledb\\\\impl/thin/protocol.pyx:361\u001b[0m, in \u001b[0;36moracledb.thin_impl.Protocol._process_message\u001b[1;34m()\u001b[0m\n",
      "File \u001b[1;32msrc\\\\oracledb\\\\impl/thin/messages.pyx:1824\u001b[0m, in \u001b[0;36moracledb.thin_impl.ConnectMessage.process\u001b[1;34m()\u001b[0m\n",
      "File \u001b[1;32msrc\\\\oracledb\\\\impl/thin/buffer.pyx:844\u001b[0m, in \u001b[0;36moracledb.thin_impl.Buffer.read_uint32\u001b[1;34m()\u001b[0m\n",
      "File \u001b[1;32msrc\\\\oracledb\\\\impl/thin/packet.pyx:235\u001b[0m, in \u001b[0;36moracledb.thin_impl.ReadBuffer._get_raw\u001b[1;34m()\u001b[0m\n",
      "File \u001b[1;32msrc\\\\oracledb\\\\impl/thin/packet.pyx:588\u001b[0m, in \u001b[0;36moracledb.thin_impl.ReadBuffer.wait_for_packets_sync\u001b[1;34m()\u001b[0m\n",
      "File \u001b[1;32msrc\\\\oracledb\\\\impl/thin/transport.pyx:323\u001b[0m, in \u001b[0;36moracledb.thin_impl.Transport.read_packet\u001b[1;34m()\u001b[0m\n",
      "File \u001b[1;32mF:\\ruslan\\projects\\forecaster\\env_fcr\\lib\\site-packages\\oracledb\\errors.py:162\u001b[0m, in \u001b[0;36m_raise_err\u001b[1;34m(error_num, context_error_message, cause, **args)\u001b[0m\n\u001b[0;32m    161\u001b[0m exc_type \u001b[38;5;241m=\u001b[39m ERR_EXCEPTION_TYPES[error_num \u001b[38;5;241m/\u001b[39m\u001b[38;5;241m/\u001b[39m \u001b[38;5;241m1000\u001b[39m]\n\u001b[1;32m--> 162\u001b[0m \u001b[38;5;28;01mraise\u001b[39;00m exc_type(_Error(message)) \u001b[38;5;28;01mfrom\u001b[39;00m \u001b[38;5;21;01mcause\u001b[39;00m\n",
      "\u001b[1;31mDatabaseError\u001b[0m: DPY-4011: the database or network closed the connection\nHelp: https://python-oracledb.readthedocs.io/en/latest/user_guide/troubleshooting.html#dpy-4011",
      "\nThe above exception was the direct cause of the following exception:\n",
      "\u001b[1;31mOperationalError\u001b[0m                          Traceback (most recent call last)",
      "Cell \u001b[1;32mIn[5], line 1\u001b[0m\n\u001b[1;32m----> 1\u001b[0m conn_173 \u001b[38;5;241m=\u001b[39m \u001b[43moracledb\u001b[49m\u001b[38;5;241;43m.\u001b[39;49m\u001b[43mconnect\u001b[49m\u001b[43m(\u001b[49m\u001b[43muser\u001b[49m\u001b[38;5;241;43m=\u001b[39;49m\u001b[38;5;124;43m\"\u001b[39;49m\u001b[38;5;124;43mcligts\u001b[39;49m\u001b[38;5;124;43m\"\u001b[39;49m\u001b[43m,\u001b[49m\u001b[43m \u001b[49m\u001b[43mpassword\u001b[49m\u001b[38;5;241;43m=\u001b[39;49m\u001b[38;5;124;43m\"\u001b[39;49m\u001b[38;5;124;43mbelorgmc\u001b[39;49m\u001b[38;5;124;43m\"\u001b[39;49m\u001b[43m,\u001b[49m\u001b[43m \u001b[49m\u001b[43mdsn\u001b[49m\u001b[38;5;241;43m=\u001b[39;49m\u001b[38;5;124;43m\"\u001b[39;49m\u001b[38;5;124;43m192.168.211.173/clidb\u001b[39;49m\u001b[38;5;124;43m\"\u001b[39;49m\u001b[43m)\u001b[49m\n\u001b[0;32m      2\u001b[0m cur_173 \u001b[38;5;241m=\u001b[39m conn_173\u001b[38;5;241m.\u001b[39mcursor()\n\u001b[0;32m      4\u001b[0m cur_173\u001b[38;5;241m.\u001b[39mexecute(\u001b[38;5;124m\"\u001b[39m\u001b[38;5;124mselect date_obs from gts.synop where date_obs = \u001b[39m\u001b[38;5;124m'\u001b[39m\u001b[38;5;124m22.12.2023\u001b[39m\u001b[38;5;124m'\u001b[39m\u001b[38;5;124m and station_id=\u001b[39m\u001b[38;5;124m'\u001b[39m\u001b[38;5;124m06450\u001b[39m\u001b[38;5;124m'\u001b[39m\u001b[38;5;124m\"\u001b[39m)\n",
      "File \u001b[1;32mF:\\ruslan\\projects\\forecaster\\env_fcr\\lib\\site-packages\\oracledb\\connection.py:1134\u001b[0m, in \u001b[0;36m_connection_factory.<locals>.connect\u001b[1;34m(dsn, pool, conn_class, params, **kwargs)\u001b[0m\n\u001b[0;32m   1132\u001b[0m     message \u001b[38;5;241m=\u001b[39m \u001b[38;5;124m\"\u001b[39m\u001b[38;5;124mpool must be an instance of oracledb.ConnectionPool\u001b[39m\u001b[38;5;124m\"\u001b[39m\n\u001b[0;32m   1133\u001b[0m     \u001b[38;5;28;01mraise\u001b[39;00m \u001b[38;5;167;01mTypeError\u001b[39;00m(message)\n\u001b[1;32m-> 1134\u001b[0m \u001b[38;5;28;01mreturn\u001b[39;00m conn_class(dsn\u001b[38;5;241m=\u001b[39mdsn, pool\u001b[38;5;241m=\u001b[39mpool, params\u001b[38;5;241m=\u001b[39mparams, \u001b[38;5;241m*\u001b[39m\u001b[38;5;241m*\u001b[39mkwargs)\n",
      "File \u001b[1;32mF:\\ruslan\\projects\\forecaster\\env_fcr\\lib\\site-packages\\oracledb\\connection.py:523\u001b[0m, in \u001b[0;36mConnection.__init__\u001b[1;34m(self, dsn, pool, params, **kwargs)\u001b[0m\n\u001b[0;32m    521\u001b[0m     \u001b[38;5;28;01melse\u001b[39;00m:\n\u001b[0;32m    522\u001b[0m         impl \u001b[38;5;241m=\u001b[39m thin_impl\u001b[38;5;241m.\u001b[39mThinConnImpl(dsn, params_impl)\n\u001b[1;32m--> 523\u001b[0m         \u001b[43mimpl\u001b[49m\u001b[38;5;241;43m.\u001b[39;49m\u001b[43mconnect\u001b[49m\u001b[43m(\u001b[49m\u001b[43mparams_impl\u001b[49m\u001b[43m)\u001b[49m\n\u001b[0;32m    524\u001b[0m \u001b[38;5;28;01melse\u001b[39;00m:\n\u001b[0;32m    525\u001b[0m     impl \u001b[38;5;241m=\u001b[39m thick_impl\u001b[38;5;241m.\u001b[39mThickConnImpl(dsn, params_impl)\n",
      "File \u001b[1;32msrc\\\\oracledb\\\\impl/thin/connection.pyx:449\u001b[0m, in \u001b[0;36moracledb.thin_impl.ThinConnImpl.connect\u001b[1;34m()\u001b[0m\n",
      "File \u001b[1;32msrc\\\\oracledb\\\\impl/thin/connection.pyx:445\u001b[0m, in \u001b[0;36moracledb.thin_impl.ThinConnImpl.connect\u001b[1;34m()\u001b[0m\n",
      "File \u001b[1;32msrc\\\\oracledb\\\\impl/thin/connection.pyx:411\u001b[0m, in \u001b[0;36moracledb.thin_impl.ThinConnImpl._connect_with_params\u001b[1;34m()\u001b[0m\n",
      "File \u001b[1;32msrc\\\\oracledb\\\\impl/thin/connection.pyx:392\u001b[0m, in \u001b[0;36moracledb.thin_impl.ThinConnImpl._connect_with_description\u001b[1;34m()\u001b[0m\n",
      "File \u001b[1;32msrc\\\\oracledb\\\\impl/thin/connection.pyx:358\u001b[0m, in \u001b[0;36moracledb.thin_impl.ThinConnImpl._connect_with_address\u001b[1;34m()\u001b[0m\n",
      "File \u001b[1;32mF:\\ruslan\\projects\\forecaster\\env_fcr\\lib\\site-packages\\oracledb\\errors.py:162\u001b[0m, in \u001b[0;36m_raise_err\u001b[1;34m(error_num, context_error_message, cause, **args)\u001b[0m\n\u001b[0;32m    160\u001b[0m     message \u001b[38;5;241m=\u001b[39m \u001b[38;5;124mf\u001b[39m\u001b[38;5;124m\"\u001b[39m\u001b[38;5;132;01m{\u001b[39;00mmessage\u001b[38;5;132;01m}\u001b[39;00m\u001b[38;5;130;01m\\n\u001b[39;00m\u001b[38;5;132;01m{\u001b[39;00mcontext_error_message\u001b[38;5;132;01m}\u001b[39;00m\u001b[38;5;124m\"\u001b[39m\n\u001b[0;32m    161\u001b[0m exc_type \u001b[38;5;241m=\u001b[39m ERR_EXCEPTION_TYPES[error_num \u001b[38;5;241m/\u001b[39m\u001b[38;5;241m/\u001b[39m \u001b[38;5;241m1000\u001b[39m]\n\u001b[1;32m--> 162\u001b[0m \u001b[38;5;28;01mraise\u001b[39;00m exc_type(_Error(message)) \u001b[38;5;28;01mfrom\u001b[39;00m \u001b[38;5;21;01mcause\u001b[39;00m\n",
      "\u001b[1;31mOperationalError\u001b[0m: DPY-6005: cannot connect to database (CONNECTION_ID=rm8o/mrB+zO7V4fKjShPOA==).\nDPY-4011: the database or network closed the connection\nHelp: https://python-oracledb.readthedocs.io/en/latest/user_guide/troubleshooting.html#dpy-4011"
     ]
    }
   ],
   "source": [
    "conn_173 = oracledb.connect(user=\"cligts\", password=\"belorgmc\", dsn=\"192.168.211.173/clidb\")\n",
    "cur_173 = conn_173.cursor()\n",
    "\n",
    "cur_173.execute(\"select date_obs from gts.synop where date_obs = '22.12.2023' and station_id='06450'\")\n",
    "for c in cur_173:\n",
    "    print(c)"
   ]
  },
  {
   "cell_type": "code",
   "execution_count": 3,
   "id": "8eac5ed5-7633-401b-8b92-037fe228e698",
   "metadata": {},
   "outputs": [
    {
     "name": "stdout",
     "output_type": "stream",
     "text": [
      "(92, 'WRF_92                        ', '15 km                         ', 'WRF-92                        ')\n",
      "(93, 'WRF_93                        ', '15 km                         ', 'WRF-93                        ')\n",
      "(94, 'WRF_94                        ', '15 km                         ', 'WRF-94                        ')\n",
      "(95, 'WRF_95                        ', '15 km                         ', 'WRF-95                        ')\n",
      "(982, 'GEO_982                       ', '3 km                          ', 'GEO-982                       ')\n",
      "(983, 'GEO_983                       ', '3 km                          ', 'GEO-983                       ')\n",
      "(984, 'GEO_984                       ', '3 km                          ', 'GEO-984                       ')\n",
      "(985, 'GEO_985                       ', '3 km                          ', 'GEO-985                       ')\n",
      "(3, 'UM_1.0                        ', '1.0°                         ', 'UM                            ')\n",
      "(4, 'GFS_0.25                      ', '0.25°                        ', 'GFS                           ')\n",
      "(98, 'WRF_GEO                       ', '3 km                          ', 'GEO                           ')\n",
      "(96, 'WRF_EXP_15                    ', '15 km                         ', 'EXP 15                        ')\n",
      "(97, 'WRF_EXP_3                     ', '3 km                          ', 'EXP 3                         ')\n",
      "(5, 'ICON                          ', '0.0625°                      ', 'ICON                          ')\n",
      "(6, 'CF                            ', 'point                         ', 'КП                          ')\n",
      "(7, 'MOS                           ', 'point                         ', 'РЭП                        ')\n",
      "(8, 'COSMO                         ', '0.025°                       ', 'COSMO                         ')\n",
      "(10, 'ECMWF                         ', '0.1°                         ', 'IFS                           ')\n",
      "(99, 'WRF_OPER                      ', '3 km                          ', 'OPER                          ')\n",
      "(1, 'WRF_3                         ', '3 km                          ', 'WRF 3                         ')\n",
      "(2, 'UM_0.8                        ', '0.8°                         ', None)\n",
      "(9, 'WRF_15                        ', '15 km                         ', 'WRF 15                        ')\n",
      "(0, 'synop                         ', 'point                         ', 'синоптик              ')\n",
      "(91, 'WRF_91                        ', '15 km                         ', 'WRF-91                        ')\n",
      "(981, 'GEO_981                       ', '3 km                          ', 'GEO-981                       ')\n"
     ]
    }
   ],
   "source": []
  },
  {
   "cell_type": "code",
   "execution_count": null,
   "id": "5b28774c-e98a-404d-8e5c-807b73bc9d12",
   "metadata": {},
   "outputs": [],
   "source": []
  }
 ],
 "metadata": {
  "kernelspec": {
   "display_name": "Python 3 (ipykernel)",
   "language": "python",
   "name": "python3"
  },
  "language_info": {
   "codemirror_mode": {
    "name": "ipython",
    "version": 3
   },
   "file_extension": ".py",
   "mimetype": "text/x-python",
   "name": "python",
   "nbconvert_exporter": "python",
   "pygments_lexer": "ipython3",
   "version": "3.10.11"
  }
 },
 "nbformat": 4,
 "nbformat_minor": 5
}
